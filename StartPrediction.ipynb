{
 "cells": [
  {
   "cell_type": "markdown",
   "metadata": {},
   "source": [
    "ML Final\n",
    "====                            \n",
    "106061121 莊裕嵐 106061140 許暐彤\n",
    "* 這個project中，我們希望能藉由input當地（如：日本東京）各項天氣資料（如：平均溫度、平均降水量、日照時間，及平均濕度等），來判定該年櫻花開花時間與時長。\n",
    "* 我們假設開花時機與短期天氣資訊有關，而花期時長則與長期天氣資訊相關，並由此分成2個model來訓練。"
   ]
  },
  {
   "cell_type": "markdown",
   "metadata": {
    "id": "kpKytGhYb2nL"
   },
   "source": [
    "## Implementation 1：開花時機\n",
    "* 先手動將日本各地、各年天氣相關數據從日本氣象廳網站（http://www.data.jma.go.jp/obd/stats/etrn/index.php ）上下載下來，再做初步的data preprocessing，如：刪除無關資料、填補空缺（用平均值、0等填補）等。手動將櫻花開花日（https://www.data.jma.go.jp/sakura/data/sakura003_06.html ）與滿開日（https://www.data.jma.go.jp/sakura/data/sakura004_06.html ）當作label填至dataset中，並假設滿開的後半旬會是櫻吹雪（即花期結束）。\n",
    "* 考慮到時間間隔的密度與資料擷取的效率，我們選用時間間隔較短的半旬（約5天）天氣資料做訓練。分別做出能辨別當半旬是開花、開花中、滿開、謝花、還是非花期的classifier，以及能預測下半旬是否開花的model。\n",
    "* 我們選取全年的資料作為input，花期的時間佔整年的一小部分、相對短暫，也造成data分布不均勻。經實驗後發現resample、平衡classes間的差距後，達成的performance比較好。\n",
    "* 將data標準化後，用LDA降低維度。每次取最高可留下features數作為LDA的參數，辨別當半旬是開花、開花中、滿開、謝花、還是非花期的classifier用4，預測下半旬是否開花的model則用1。\n",
    "* 在模型的選擇上，辨別當半旬是開花、開花中、滿開、謝花、還是非花期的classifier使用SVM。用balance後的dataset訓練，正確率可以達到99.9%。預測下半旬是否開花的model則分別使用SVM、Ensemble Classifier，及Random Forest，最後發現SVM效率最好。兩個models都有用grid search找最佳參數。\n",
    "* 另外，預測開花時，希望model不要錯過任何可能開花的機會、要盡可能地猜中，判定performance上使用f1。最後達成的正確率約為99.5%。\n",
    "* 最後用pipeline簡化我們的程式。\n",
    "\n",
    "## Result\n",
    "以下參數由Discussion裡探討得出。"
   ]
  },
  {
   "cell_type": "markdown",
   "metadata": {},
   "source": [
    "### 1-1 & 1-2 : 辨別當半旬是開花、開花中、滿開、謝花、還是非花期的classifier"
   ]
  },
  {
   "cell_type": "code",
   "execution_count": 1,
   "metadata": {},
   "outputs": [
    {
     "name": "stdout",
     "output_type": "stream",
     "text": [
      "Test accuracy:  0.999\n"
     ]
    }
   ],
   "source": [
    "import pandas as pd\n",
    "import numpy as np\n",
    "from sklearn.svm import SVC\n",
    "from sklearn.utils import resample\n",
    "from sklearn.model_selection import train_test_split\n",
    "from sklearn.preprocessing import StandardScaler\n",
    "from sklearn.discriminant_analysis import LinearDiscriminantAnalysis as LDA\n",
    "from sklearn.pipeline import make_pipeline\n",
    "\n",
    "# read in data for classification\n",
    "path = \"data_tokyo.csv\"\n",
    "df = pd.read_csv(path, encoding='latin1')\n",
    "\n",
    "# put in data & turn y into num\n",
    "data = df.T\n",
    "X = []\n",
    "y = []\n",
    "for i in range(len(data.T)): # for all input data\n",
    "    # store all data into X & y\n",
    "    X.append(np.array(data[i][3:24]))\n",
    "    y.append(data[i][24])\n",
    "\n",
    "# balance data\n",
    "y = np.array(y)\n",
    "X = np.array(X)\n",
    "X_upsampled, y_upsampled = resample(X[y==1],\n",
    "                                   y[y==1],\n",
    "                                   replace=True,\n",
    "                                   n_samples=X[y==0].shape[0],\n",
    "                                   random_state=123)\n",
    "X_bal = np.vstack((X[y==0], X_upsampled))\n",
    "y_bal = np.hstack((y[y==0], y_upsampled))\n",
    "\n",
    "X_upsampled, y_upsampled = resample(X[y==2],\n",
    "                                   y[y==2],\n",
    "                                   replace=True,\n",
    "                                   n_samples=X[y==0].shape[0],\n",
    "                                   random_state=123)\n",
    "X_bal = np.vstack((X_bal, X_upsampled))\n",
    "y_bal = np.hstack((y_bal, y_upsampled))\n",
    "\n",
    "X_upsampled, y_upsampled = resample(X[y==3],\n",
    "                                   y[y==3],\n",
    "                                   replace=True,\n",
    "                                   n_samples=X[y==0].shape[0],\n",
    "                                   random_state=123)\n",
    "X_bal = np.vstack((X_bal, X_upsampled))\n",
    "y_bal = np.hstack((y_bal, y_upsampled))\n",
    "\n",
    "X_upsampled, y_upsampled = resample(X[y==4],\n",
    "                                   y[y==4],\n",
    "                                   replace=True,\n",
    "                                   n_samples=X[y==0].shape[0],\n",
    "                                   random_state=123)\n",
    "X_bal = np.vstack((X_bal, X_upsampled))\n",
    "y_bal = np.hstack((y_bal, y_upsampled))\n",
    "\n",
    "# split into 70% training & 30% testing\n",
    "X_train, X_test, y_train, y_test = train_test_split(X_bal, \n",
    "        y_bal, test_size=0.3, random_state=1, stratify=y_bal)\n",
    "\n",
    "# standardize Xs & feature-extract Xs & train SVM model w/ best parameters\n",
    "# 'C': 0.1, 'gamma': 10.0, 'kernel': 'rbf'\n",
    "pipe_svm = make_pipeline(StandardScaler(),\n",
    "                         LDA(n_components=4),\n",
    "                         SVC(C=0.1, gamma=10.0, kernel='rbf', random_state=1))\n",
    "pipe_svm.fit(X_train, y_train)\n",
    "print('Test accuracy: % .3f' % pipe_svm.score(X_test, y_test))"
   ]
  },
  {
   "cell_type": "markdown",
   "metadata": {},
   "source": [
    "### 1-3 & 1-4 & 1-5: 預測下半旬是否開花的model"
   ]
  },
  {
   "cell_type": "code",
   "execution_count": 2,
   "metadata": {
    "colab": {
     "base_uri": "https://localhost:8080/"
    },
    "id": "HH56vtu_b2nO",
    "outputId": "76649f46-2b43-4c50-d252-3062c57a8fca"
   },
   "outputs": [
    {
     "name": "stdout",
     "output_type": "stream",
     "text": [
      "Test accuracy:  0.995\n"
     ]
    }
   ],
   "source": [
    "import pandas as pd\n",
    "import numpy as np\n",
    "from sklearn.svm import SVC\n",
    "from sklearn.utils import resample\n",
    "from sklearn.model_selection import train_test_split\n",
    "from sklearn.preprocessing import StandardScaler\n",
    "from sklearn.discriminant_analysis import LinearDiscriminantAnalysis as LDA\n",
    "from sklearn.pipeline import make_pipeline\n",
    "\n",
    "# read in data for prediction\n",
    "path = \"data_tokyo_pre.csv\"\n",
    "df = pd.read_csv(path, encoding='latin1')\n",
    "\n",
    "# put data into X & y\n",
    "data = df.T\n",
    "X = []\n",
    "y = []\n",
    "for i in range(len(data.T)): # for all input data\n",
    "    # store all data into X & y\n",
    "    X.append(np.array(data[i][3:24]))\n",
    "    y.append(data[i][24])\n",
    "\n",
    "# balance data\n",
    "y = np.array(y)\n",
    "X = np.array(X)\n",
    "X_upsampled, y_upsampled = resample(X[y==1],\n",
    "                                   y[y==1],\n",
    "                                   replace=True,\n",
    "                                   n_samples=X[y==0].shape[0],\n",
    "                                   random_state=123)\n",
    "X_bal = np.vstack((X[y==0], X_upsampled))\n",
    "y_bal = np.hstack((y[y==0], y_upsampled))\n",
    "\n",
    "# split into 70% training & 30% testing\n",
    "X_train, X_test, y_train, y_test = train_test_split(X_bal, \n",
    "        y_bal, test_size=0.3, random_state=1, stratify=y_bal)\n",
    "\n",
    "# standardize Xs & feature-extract Xs & train SVM model w/ best parameters\n",
    "# 'C': 1000.0, 'gamma': 1000.0, 'kernel': 'rbf'\n",
    "pipe_svm = make_pipeline(StandardScaler(),\n",
    "                         LDA(n_components=1),\n",
    "                         SVC(C=1000.0, gamma=1000.0, kernel='rbf', random_state=1))\n",
    "pipe_svm.fit(X_train, y_train)\n",
    "print('Test accuracy: % .3f' % pipe_svm.score(X_test, y_test))"
   ]
  },
  {
   "cell_type": "markdown",
   "metadata": {
    "id": "4_gXN0P7b2nR"
   },
   "source": [
    "### Discussion\n",
    "\n",
    "利用Google Chrome擴充功能－－Table Capture，我們可以將日本各地、各年天氣相關數據從日本氣象廳網站（http://www.data.jma.go.jp/obd/stats/etrn/index.php ）上下載下來。再做初步的data preprocessing，如：刪除無關資料（如：海上氣壓、風向）、用平均值填補空缺等。其中，原資料中的\"--\"表示完全沒有，0表示不足1，0.0則是表示不足0.1。為了方便處理，上述3種表示方法皆用0取代。"
   ]
  },
  {
   "cell_type": "markdown",
   "metadata": {},
   "source": [
    "Label部分則是手動輸入櫻花開花日（https://www.data.jma.go.jp/sakura/data/sakura003_06.html ）與滿開日（https://www.data.jma.go.jp/sakura/data/sakura004_06.html ），並假設滿開的後半旬會是櫻吹雪（即花期結束）。"
   ]
  },
  {
   "cell_type": "markdown",
   "metadata": {},
   "source": [
    "#### 1-1：用unbalanced dataset辨別當半旬是開花、開花中、滿開、謝花、還是非花期的classifier"
   ]
  },
  {
   "cell_type": "code",
   "execution_count": 3,
   "metadata": {
    "colab": {
     "base_uri": "https://localhost:8080/",
     "height": 303
    },
    "id": "iG6LBmjeb2nS",
    "outputId": "cab31497-8c10-4ac4-8153-87c87031cd80"
   },
   "outputs": [
    {
     "data": {
      "text/html": [
       "<div>\n",
       "<style scoped>\n",
       "    .dataframe tbody tr th:only-of-type {\n",
       "        vertical-align: middle;\n",
       "    }\n",
       "\n",
       "    .dataframe tbody tr th {\n",
       "        vertical-align: top;\n",
       "    }\n",
       "\n",
       "    .dataframe thead th {\n",
       "        text-align: right;\n",
       "    }\n",
       "</style>\n",
       "<table border=\"1\" class=\"dataframe\">\n",
       "  <thead>\n",
       "    <tr style=\"text-align: right;\">\n",
       "      <th></th>\n",
       "      <th>year</th>\n",
       "      <th>month</th>\n",
       "      <th>day</th>\n",
       "      <th>atm(hPa)</th>\n",
       "      <th>Rav(mm)</th>\n",
       "      <th>Rmax_day(mm)</th>\n",
       "      <th>Rmax_hr(mm)</th>\n",
       "      <th>Rmax_10min(mm)</th>\n",
       "      <th>Tav(¢J)</th>\n",
       "      <th>Tav_max(¢J)</th>\n",
       "      <th>...</th>\n",
       "      <th>sun (h)</th>\n",
       "      <th>sunshine (MJ/¢T)</th>\n",
       "      <th>snow(cm)</th>\n",
       "      <th>snow_max(cm)</th>\n",
       "      <th>snow_depth(cm)</th>\n",
       "      <th>cloud</th>\n",
       "      <th>snow_day</th>\n",
       "      <th>fog_day</th>\n",
       "      <th>thunder_day</th>\n",
       "      <th>Label</th>\n",
       "    </tr>\n",
       "  </thead>\n",
       "  <tbody>\n",
       "    <tr>\n",
       "      <th>0</th>\n",
       "      <td>2008</td>\n",
       "      <td>1</td>\n",
       "      <td>1 to  5</td>\n",
       "      <td>1009.2</td>\n",
       "      <td>0.0</td>\n",
       "      <td>0.0</td>\n",
       "      <td>0.0</td>\n",
       "      <td>0.0</td>\n",
       "      <td>6.2</td>\n",
       "      <td>10.7</td>\n",
       "      <td>...</td>\n",
       "      <td>37.8</td>\n",
       "      <td>10.4</td>\n",
       "      <td>0</td>\n",
       "      <td>0</td>\n",
       "      <td>0</td>\n",
       "      <td>1.6</td>\n",
       "      <td>0</td>\n",
       "      <td>0</td>\n",
       "      <td>0</td>\n",
       "      <td>0</td>\n",
       "    </tr>\n",
       "    <tr>\n",
       "      <th>1</th>\n",
       "      <td>2008</td>\n",
       "      <td>1</td>\n",
       "      <td>6 to 10</td>\n",
       "      <td>1011.4</td>\n",
       "      <td>0.0</td>\n",
       "      <td>0.0</td>\n",
       "      <td>0.0</td>\n",
       "      <td>0.0</td>\n",
       "      <td>9.0</td>\n",
       "      <td>12.9</td>\n",
       "      <td>...</td>\n",
       "      <td>30.0</td>\n",
       "      <td>8.4</td>\n",
       "      <td>0</td>\n",
       "      <td>0</td>\n",
       "      <td>0</td>\n",
       "      <td>3.8</td>\n",
       "      <td>0</td>\n",
       "      <td>0</td>\n",
       "      <td>0</td>\n",
       "      <td>0</td>\n",
       "    </tr>\n",
       "    <tr>\n",
       "      <th>2</th>\n",
       "      <td>2008</td>\n",
       "      <td>1</td>\n",
       "      <td>11 to 15</td>\n",
       "      <td>1015.4</td>\n",
       "      <td>6.0</td>\n",
       "      <td>6.0</td>\n",
       "      <td>2.0</td>\n",
       "      <td>0.5</td>\n",
       "      <td>6.1</td>\n",
       "      <td>9.1</td>\n",
       "      <td>...</td>\n",
       "      <td>15.5</td>\n",
       "      <td>6.0</td>\n",
       "      <td>0</td>\n",
       "      <td>0</td>\n",
       "      <td>0</td>\n",
       "      <td>7.4</td>\n",
       "      <td>0</td>\n",
       "      <td>0</td>\n",
       "      <td>0</td>\n",
       "      <td>0</td>\n",
       "    </tr>\n",
       "    <tr>\n",
       "      <th>3</th>\n",
       "      <td>2008</td>\n",
       "      <td>1</td>\n",
       "      <td>16 to 20</td>\n",
       "      <td>1020.2</td>\n",
       "      <td>0.0</td>\n",
       "      <td>0.0</td>\n",
       "      <td>0.0</td>\n",
       "      <td>0.0</td>\n",
       "      <td>4.6</td>\n",
       "      <td>8.0</td>\n",
       "      <td>...</td>\n",
       "      <td>26.5</td>\n",
       "      <td>9.3</td>\n",
       "      <td>0</td>\n",
       "      <td>0</td>\n",
       "      <td>0</td>\n",
       "      <td>8.0</td>\n",
       "      <td>2</td>\n",
       "      <td>0</td>\n",
       "      <td>0</td>\n",
       "      <td>0</td>\n",
       "    </tr>\n",
       "    <tr>\n",
       "      <th>4</th>\n",
       "      <td>2008</td>\n",
       "      <td>1</td>\n",
       "      <td>21 to 25</td>\n",
       "      <td>1012.9</td>\n",
       "      <td>10.5</td>\n",
       "      <td>10.5</td>\n",
       "      <td>2.0</td>\n",
       "      <td>0.5</td>\n",
       "      <td>4.1</td>\n",
       "      <td>6.9</td>\n",
       "      <td>...</td>\n",
       "      <td>22.1</td>\n",
       "      <td>7.9</td>\n",
       "      <td>0</td>\n",
       "      <td>0</td>\n",
       "      <td>0</td>\n",
       "      <td>6.7</td>\n",
       "      <td>1</td>\n",
       "      <td>0</td>\n",
       "      <td>0</td>\n",
       "      <td>0</td>\n",
       "    </tr>\n",
       "  </tbody>\n",
       "</table>\n",
       "<p>5 rows × 25 columns</p>\n",
       "</div>"
      ],
      "text/plain": [
       "   year  month       day  atm(hPa)  Rav(mm)  Rmax_day(mm)  Rmax_hr(mm)  \\\n",
       "0  2008      1   1 to  5    1009.2      0.0           0.0          0.0   \n",
       "1  2008      1   6 to 10    1011.4      0.0           0.0          0.0   \n",
       "2  2008      1  11 to 15    1015.4      6.0           6.0          2.0   \n",
       "3  2008      1  16 to 20    1020.2      0.0           0.0          0.0   \n",
       "4  2008      1  21 to 25    1012.9     10.5          10.5          2.0   \n",
       "\n",
       "   Rmax_10min(mm)  Tav(¢J)  Tav_max(¢J)  ...  sun (h)  sunshine (MJ/¢T)  \\\n",
       "0             0.0      6.2         10.7  ...     37.8              10.4   \n",
       "1             0.0      9.0         12.9  ...     30.0               8.4   \n",
       "2             0.5      6.1          9.1  ...     15.5               6.0   \n",
       "3             0.0      4.6          8.0  ...     26.5               9.3   \n",
       "4             0.5      4.1          6.9  ...     22.1               7.9   \n",
       "\n",
       "   snow(cm)  snow_max(cm)  snow_depth(cm)  cloud  snow_day  fog_day  \\\n",
       "0         0             0               0    1.6         0        0   \n",
       "1         0             0               0    3.8         0        0   \n",
       "2         0             0               0    7.4         0        0   \n",
       "3         0             0               0    8.0         2        0   \n",
       "4         0             0               0    6.7         1        0   \n",
       "\n",
       "   thunder_day  Label  \n",
       "0            0      0  \n",
       "1            0      0  \n",
       "2            0      0  \n",
       "3            0      0  \n",
       "4            0      0  \n",
       "\n",
       "[5 rows x 25 columns]"
      ]
     },
     "execution_count": 3,
     "metadata": {},
     "output_type": "execute_result"
    }
   ],
   "source": [
    "import pandas as pd\n",
    "path = \"data_tokyo.csv\"\n",
    "df = pd.read_csv(path, encoding='latin1')\n",
    "df.head()"
   ]
  },
  {
   "cell_type": "markdown",
   "metadata": {
    "id": "8fnUeVa_fSDl"
   },
   "source": [
    "雖然讀取進來的input有亂數（主要在header的單位表示上），不過不影響我們features的部分。讀取日期與label以外的資料放入X，並把label放入y。"
   ]
  },
  {
   "cell_type": "code",
   "execution_count": 4,
   "metadata": {},
   "outputs": [
    {
     "name": "stdout",
     "output_type": "stream",
     "text": [
      "X: [1015.4 6.0 6.0 2.0 0.5 6.1 9.1 3.3 13.0 1.9 45 23 15.5 6.0 0 0 0 7.4 0 0\n",
      " 0]\n",
      "Label: 0\n"
     ]
    }
   ],
   "source": [
    "import numpy as np\n",
    "\n",
    "data = df.T\n",
    "\n",
    "X = []\n",
    "y = []\n",
    "for i in range(len(data.T)):          # read total input data\n",
    "    # store all data into X & y\n",
    "    X.append(np.array(data[i][3:24])) # skip dates\n",
    "    y.append(data[i][24])             # label\n",
    "print(\"X:\", X[2])\n",
    "print(\"Label:\", y[2])"
   ]
  },
  {
   "cell_type": "markdown",
   "metadata": {},
   "source": [
    "把所有data讀進來後，可以利用train_test_split分成training與testing data。應該要有936組samples，各21個features。"
   ]
  },
  {
   "cell_type": "code",
   "execution_count": 5,
   "metadata": {
    "colab": {
     "base_uri": "https://localhost:8080/"
    },
    "id": "v0z5H9urgXd1",
    "outputId": "2bd2218e-893e-4862-b267-d4dc35a39d7d"
   },
   "outputs": [
    {
     "name": "stdout",
     "output_type": "stream",
     "text": [
      "X_train shape: (655, 21) y_train shape: (655,)\n",
      "X_test shape: (281, 21) y_test shape: (281,)\n"
     ]
    }
   ],
   "source": [
    "from sklearn.model_selection import train_test_split\n",
    "# split into 70% training & 30% testing\n",
    "X_train, X_test, y_train, y_test = train_test_split(X, \n",
    "        y, test_size=0.3, random_state=1, stratify=y)\n",
    "print(\"X_train shape:\", np.array(X_train).shape, \"y_train shape:\", np.array(y_train).shape)\n",
    "print(\"X_test shape:\", np.array(X_test).shape, \"y_test shape:\", np.array(y_test).shape)"
   ]
  },
  {
   "cell_type": "markdown",
   "metadata": {
    "id": "7WwLtRP2zoIe"
   },
   "source": [
    "有了training與testing data，我們可以standardize它們。要注意testing data不能fit到。"
   ]
  },
  {
   "cell_type": "code",
   "execution_count": 6,
   "metadata": {
    "colab": {
     "base_uri": "https://localhost:8080/"
    },
    "id": "2v8PxDMGzpIT",
    "outputId": "b22f099f-d593-4772-9274-245105835f67"
   },
   "outputs": [],
   "source": [
    "from sklearn.preprocessing import StandardScaler\n",
    "\n",
    "# standardize Xs\n",
    "stdsc = StandardScaler()\n",
    "X_train_std = stdsc.fit_transform(X_train)\n",
    "X_test_std = stdsc.transform(X_test)"
   ]
  },
  {
   "cell_type": "markdown",
   "metadata": {
    "id": "voahqbjniT6A"
   },
   "source": [
    "在降低features維度、降低系統計算量上，我選擇使用feature extraction的LDA。因為總共有5個classes（開花、開花中、滿開、謝花，以及非花期），使用LDA時最後留下最多只有4個components。我選擇盡可能留下features，因此給它4作為參數。降維度時要注意，X_test不能fit到。"
   ]
  },
  {
   "cell_type": "code",
   "execution_count": 7,
   "metadata": {
    "colab": {
     "base_uri": "https://localhost:8080/"
    },
    "id": "W1_t2b4yicBG",
    "outputId": "98aa5fb1-ae6c-4d57-fdd1-ccd53d6e5fdb"
   },
   "outputs": [
    {
     "name": "stdout",
     "output_type": "stream",
     "text": [
      "(655, 4)\n",
      "(281, 4)\n"
     ]
    },
    {
     "data": {
      "text/plain": [
       "array([[  0.12296719,   0.54125559,   0.15654731,   0.17750079],\n",
       "       [  0.54903313,   0.3137964 ,   0.31461766,   0.77591575],\n",
       "       [ -0.54030289,  -0.30826651,  -0.0462416 ,  -0.44857304],\n",
       "       [ -0.15668896,  -0.15003383,  -0.41663565,   0.51968292],\n",
       "       [  0.12206149,   0.35018218,   0.17608409,  -0.49511936],\n",
       "       [ -1.68942147, -11.38878524,   4.61696636, -11.01410342],\n",
       "       [ -1.55955899,   3.42817038,  -6.68941339,   5.16068574],\n",
       "       [  1.97474609,   7.28684348,  -1.67693406,   5.04956667],\n",
       "       [  2.36297383,  -1.06590885,   1.56030091,   0.76898327],\n",
       "       [ -1.94252937,   1.58325895,   2.16906202,   0.3473863 ],\n",
       "       [ -0.09266294,  -0.53786174,   1.32069104,   0.30820939],\n",
       "       [ -0.23253636,   0.1980671 ,  -1.0469985 ,   0.11423336],\n",
       "       [ -0.58696868,   0.06294866,   1.2137452 ,  -1.79470082],\n",
       "       [  1.16545231,   0.73936161,  -0.28307378,   1.04990111],\n",
       "       [  0.66836615,  -2.16722232,  -0.07760983,  -0.69109764],\n",
       "       [ -0.47362189,   2.1667814 ,   0.07134486,   0.69311035],\n",
       "       [ -0.24452824,  -0.2525127 ,   0.05512884,   0.10027261],\n",
       "       [  0.11859875,   0.39303406,   0.59239525,  -1.43174444],\n",
       "       [ -0.13993051,   0.4013478 ,  -0.01413316,   0.23669934],\n",
       "       [ -0.10833804,   0.03441236,  -0.11784468,  -0.06525519],\n",
       "       [  0.02340269,  -0.12251862,   0.23719159,  -0.53126162]])"
      ]
     },
     "execution_count": 7,
     "metadata": {},
     "output_type": "execute_result"
    }
   ],
   "source": [
    "from sklearn.discriminant_analysis import LinearDiscriminantAnalysis as LDA\n",
    "\n",
    "lda = LDA(n_components=4)\n",
    "X_train_lda = lda.fit_transform(X_train_std, y_train)\n",
    "X_test_lda = lda.transform(X_test_std)\n",
    "print(X_train_lda.shape)\n",
    "print(X_test_lda.shape)\n",
    "lda.scalings_"
   ]
  },
  {
   "cell_type": "markdown",
   "metadata": {
    "id": "9WRbh4uGJsrR"
   },
   "source": [
    "有了降過維度的input features，我們可以著手開始建辨識的model。我選擇使用SVM作為這次模型的基礎，並利用Grid Search，找到表現最佳的參數組合。Performance的判定上使用accuracy，並利用1/4的validation fold訓練出更好的model（因為其中一個class數量較少，無法使用0.1作為validation fold）。另外，為了有效地利用CPU，將n_jobs設為-1。"
   ]
  },
  {
   "cell_type": "markdown",
   "metadata": {},
   "source": [
    "要注意餵training X與testing X時，都要給降過維度的，即X_train_lda與X_test_lda。"
   ]
  },
  {
   "cell_type": "code",
   "execution_count": 8,
   "metadata": {
    "colab": {
     "base_uri": "https://localhost:8080/"
    },
    "id": "BkVusqY0zSNh",
    "outputId": "9243981c-5b92-44f8-f98e-c7ffc9c87ea5",
    "scrolled": true
   },
   "outputs": [
    {
     "name": "stdout",
     "output_type": "stream",
     "text": [
      "Training time: 0:01:53.287061\n",
      "0.952678437827323\n",
      "{'C': 0.0001, 'kernel': 'linear'}\n"
     ]
    }
   ],
   "source": [
    "from sklearn.svm import SVC\n",
    "from sklearn.model_selection import GridSearchCV\n",
    "from datetime import datetime\n",
    "\n",
    "# train SVM using Grid Search\n",
    "svm = SVC(random_state=1)\n",
    "param_range = [0.0001, 0.001, 0.01, 0.1, 1.0, 10.0, 100.0, 1000.0]\n",
    "param_grid = [{'C': param_range,\n",
    "               'kernel':['linear']},\n",
    "              {'C': param_range,\n",
    "               'gamma': param_range,\n",
    "               'kernel': ['rbf']}]\n",
    "gs = GridSearchCV(estimator=svm,\n",
    "                 param_grid = param_grid,\n",
    "                 scoring='accuracy',\n",
    "                 refit=True,\n",
    "                 cv=4,\n",
    "                 n_jobs=-1)\n",
    "start=datetime.now()\n",
    "gs = gs.fit(X_train_lda, y_train)\n",
    "print('Training time:', datetime.now()-start)\n",
    "print(gs.best_score_)\n",
    "print(gs.best_params_)"
   ]
  },
  {
   "cell_type": "markdown",
   "metadata": {
    "id": "_4bNu7fWJwxy"
   },
   "source": [
    "因為上面的refit設定為true，function會幫我們train好model。藉由以下程式碼可以得到tesing data的正確率，要注意X_test要給標準化，且經過feature extraction過的，即X_test_lda。"
   ]
  },
  {
   "cell_type": "code",
   "execution_count": 9,
   "metadata": {
    "colab": {
     "base_uri": "https://localhost:8080/"
    },
    "id": "IHtPW18PcHTT",
    "outputId": "db40d217-1840-45da-8c3c-b8d072991513"
   },
   "outputs": [
    {
     "name": "stdout",
     "output_type": "stream",
     "text": [
      "Test accuracy:  0.950\n"
     ]
    }
   ],
   "source": [
    "clf = gs.best_estimator_\n",
    "print('Test accuracy: % .3f' % clf.score(X_test_lda, y_test))"
   ]
  },
  {
   "cell_type": "markdown",
   "metadata": {
    "id": "CcX22p54WI3e"
   },
   "source": [
    "可以看出使用SVM的正確率相當高。但因為大部分時候為沒開花的狀況，難以確保model不是全猜\"非花期\"，才達到如此高的正確率。"
   ]
  },
  {
   "cell_type": "markdown",
   "metadata": {},
   "source": [
    "#### 1-2：用balanced dataset辨別當半旬是開花、開花中、滿開、謝花、還是非花期的classifier\n",
    "基於上述問題，嘗試balance input samples，並使用accuracy以外的F1-score來判定performance。"
   ]
  },
  {
   "cell_type": "markdown",
   "metadata": {},
   "source": [
    "先印出各個class的數量，以了解data的分布。我們可以直接重複使用上面的X, y參數。"
   ]
  },
  {
   "cell_type": "code",
   "execution_count": 10,
   "metadata": {
    "colab": {
     "base_uri": "https://localhost:8080/"
    },
    "id": "QWcWKKLLU9uo",
    "outputId": "e10c3099-2a95-4915-c370-12920d0a47b2"
   },
   "outputs": [
    {
     "name": "stdout",
     "output_type": "stream",
     "text": [
      "Labels counts in y [891  13   6  13  13]\n"
     ]
    }
   ],
   "source": [
    "print('Labels counts in y', np.bincount(y))"
   ]
  },
  {
   "cell_type": "markdown",
   "metadata": {},
   "source": [
    "可以看到整個花期與非花期的比例相差甚大，又因為最少數量的6筆資料稱不上\"大\"，我決定upsample數量較少的class，最後得到5組各891個samples的data set。"
   ]
  },
  {
   "cell_type": "code",
   "execution_count": 11,
   "metadata": {},
   "outputs": [
    {
     "name": "stdout",
     "output_type": "stream",
     "text": [
      "Labels counts in y_bal [891 891]\n",
      "Labels counts in y_bal [891 891 891]\n",
      "Labels counts in y_bal [891 891 891 891]\n",
      "Labels counts in y_bal [891 891 891 891 891]\n"
     ]
    }
   ],
   "source": [
    "from sklearn.utils import resample\n",
    "y = np.array(y)\n",
    "X = np.array(X)\n",
    "\n",
    "X_upsampled, y_upsampled = resample(X[y==1],\n",
    "                                   y[y==1],\n",
    "                                   replace=True,\n",
    "                                   n_samples=X[y==0].shape[0],\n",
    "                                   random_state=123)\n",
    "X_bal = np.vstack((X[y==0], X_upsampled))\n",
    "y_bal = np.hstack((y[y==0], y_upsampled))\n",
    "print('Labels counts in y_bal', np.bincount(y_bal))\n",
    "\n",
    "X_upsampled, y_upsampled = resample(X[y==2],\n",
    "                                   y[y==2],\n",
    "                                   replace=True,\n",
    "                                   n_samples=X[y==0].shape[0],\n",
    "                                   random_state=123)\n",
    "X_bal = np.vstack((X_bal, X_upsampled))\n",
    "y_bal = np.hstack((y_bal, y_upsampled))\n",
    "print('Labels counts in y_bal', np.bincount(y_bal))\n",
    "\n",
    "X_upsampled, y_upsampled = resample(X[y==3],\n",
    "                                   y[y==3],\n",
    "                                   replace=True,\n",
    "                                   n_samples=X[y==0].shape[0],\n",
    "                                   random_state=123)\n",
    "X_bal = np.vstack((X_bal, X_upsampled))\n",
    "y_bal = np.hstack((y_bal, y_upsampled))\n",
    "print('Labels counts in y_bal', np.bincount(y_bal))\n",
    "\n",
    "X_upsampled, y_upsampled = resample(X[y==4],\n",
    "                                   y[y==4],\n",
    "                                   replace=True,\n",
    "                                   n_samples=X[y==0].shape[0],\n",
    "                                   random_state=123)\n",
    "X_bal = np.vstack((X_bal, X_upsampled))\n",
    "y_bal = np.hstack((y_bal, y_upsampled))\n",
    "print('Labels counts in y_bal', np.bincount(y_bal))"
   ]
  },
  {
   "cell_type": "markdown",
   "metadata": {},
   "source": [
    "接著重複1-1的步驟，分成training與testing set、做standardization，並用LDA降低input features維度。"
   ]
  },
  {
   "cell_type": "code",
   "execution_count": 12,
   "metadata": {},
   "outputs": [
    {
     "name": "stdout",
     "output_type": "stream",
     "text": [
      "X_train shape: (3118, 21) y_train shape: (3118,)\n",
      "X_test shape: (1337, 21) y_test shape: (1337,)\n",
      "(3118, 4)\n",
      "(1337, 4)\n"
     ]
    },
    {
     "data": {
      "text/plain": [
       "array([[-0.02542139, -0.06898238, -0.19378434, -0.37750223],\n",
       "       [ 0.31647064, -0.34648617, -0.59609098,  0.32950184],\n",
       "       [-0.39683662,  0.34369301,  0.04200649, -0.51567967],\n",
       "       [-0.21174496,  0.32177308,  0.01803565,  0.93036271],\n",
       "       [ 0.21691474, -0.67009378,  0.15310779, -0.6953184 ],\n",
       "       [ 1.63578526,  5.29066516, -2.84906556, -1.48110681],\n",
       "       [-1.63201377, -0.69535893,  1.4559581 ,  1.76325764],\n",
       "       [-0.43095728, -4.33053157,  1.07357468,  2.66722099],\n",
       "       [ 0.43836529,  0.41995835,  0.58345177, -0.97779521],\n",
       "       [-1.33391132, -0.25891746, -0.11637478, -2.43659859],\n",
       "       [ 0.30986901, -0.14719654, -1.21518331, -0.93828615],\n",
       "       [-0.61685507, -0.53041519,  0.26342029,  0.91590111],\n",
       "       [-0.5836573 ,  0.81031838,  0.66629079,  0.46374783],\n",
       "       [ 1.51224886, -0.89183769, -1.32556393, -0.60018614],\n",
       "       [-0.6362824 ,  2.13825882, -0.03404653,  1.26177055],\n",
       "       [ 0.79089082, -1.96855827, -0.14277732, -1.12099397],\n",
       "       [-0.26615093, -0.03125408,  0.05070877, -0.10664724],\n",
       "       [ 0.61671611,  1.39162079,  0.27085248,  0.22519229],\n",
       "       [-0.26843187, -0.60153015,  0.09705655, -0.44456473],\n",
       "       [-0.05167944, -0.04454622,  0.02684431,  0.01871989],\n",
       "       [-0.0373016 ,  0.27918695,  0.78760401, -0.58800149]])"
      ]
     },
     "execution_count": 12,
     "metadata": {},
     "output_type": "execute_result"
    }
   ],
   "source": [
    "# split into 70% training & 30% testing\n",
    "X_train, X_test, y_train, y_test = train_test_split(X_bal, \n",
    "        y_bal, test_size=0.3, random_state=1, stratify=y_bal)\n",
    "print(\"X_train shape:\", np.array(X_train).shape, \"y_train shape:\", np.array(y_train).shape)\n",
    "print(\"X_test shape:\", np.array(X_test).shape, \"y_test shape:\", np.array(y_test).shape)\n",
    "\n",
    "# standardize Xs\n",
    "stdsc = StandardScaler()\n",
    "X_train_std = stdsc.fit_transform(X_train)\n",
    "X_test_std = stdsc.transform(X_test)\n",
    "\n",
    "lda = LDA(n_components=4)\n",
    "X_train_lda = lda.fit_transform(X_train_std, y_train)\n",
    "X_test_lda = lda.transform(X_test_std)\n",
    "print(X_train_lda.shape)\n",
    "print(X_test_lda.shape)\n",
    "lda.scalings_"
   ]
  },
  {
   "cell_type": "markdown",
   "metadata": {},
   "source": [
    "同1-1，我們繼續使用SVM作為這次模型的基礎，利用Grid Search，找到表現最佳的參數組合。Performance的判定上使用能計算所有true positives, false negatives及false positives數的f1_micro，並利用0.1的validation fold訓練出更好的model。另外，為了有效地利用CPU，將n_jobs設為-1。"
   ]
  },
  {
   "cell_type": "code",
   "execution_count": 13,
   "metadata": {},
   "outputs": [
    {
     "name": "stdout",
     "output_type": "stream",
     "text": [
      "Training time: 0:05:07.737406\n",
      "1.0\n",
      "{'C': 0.1, 'gamma': 10.0, 'kernel': 'rbf'}\n"
     ]
    }
   ],
   "source": [
    "from sklearn.metrics import f1_score\n",
    "\n",
    "# train SVM using Grid Search\n",
    "svm = SVC(random_state=1)\n",
    "param_range = [0.0001, 0.001, 0.01, 0.1, 1.0, 10.0, 100.0, 1000.0]\n",
    "param_grid = [{'C': param_range,\n",
    "               'kernel':['linear']},\n",
    "              {'C': param_range,\n",
    "               'gamma': param_range,\n",
    "               'kernel': ['rbf']}]\n",
    "gs = GridSearchCV(estimator=svm,\n",
    "                 param_grid = param_grid,\n",
    "                 scoring='f1_micro',\n",
    "                 refit=True,\n",
    "                 cv=10,\n",
    "                 n_jobs=-1)\n",
    "start=datetime.now()\n",
    "gs = gs.fit(X_train_lda, y_train)\n",
    "print('Training time:', datetime.now()-start)\n",
    "print(gs.best_score_)\n",
    "print(gs.best_params_)"
   ]
  },
  {
   "cell_type": "code",
   "execution_count": 14,
   "metadata": {},
   "outputs": [
    {
     "name": "stdout",
     "output_type": "stream",
     "text": [
      "accuracy: 0.9992520568436799\n",
      "f1 score macro: 0.9992523364485981\n",
      "f1 score micro: 0.9992520568436799\n"
     ]
    }
   ],
   "source": [
    "from sklearn import metrics\n",
    "clf = gs.best_estimator_\n",
    "\n",
    "y_pred = clf.predict(X_test_lda)\n",
    "print (\"accuracy:\",metrics.accuracy_score(y_test, y_pred))\n",
    "print (\"f1 score macro:\",metrics.f1_score(y_test, y_pred, average='macro') )\n",
    "print (\"f1 score micro:\",metrics.f1_score(y_test, y_pred, average='micro') )"
   ]
  },
  {
   "cell_type": "markdown",
   "metadata": {
    "id": "IcHZ02asWxD6"
   },
   "source": [
    "雖然training time約為原本的2.5倍左右，balance後train出來的模型正確率更高了。不過這個模型並不能\"預測\"櫻花開花，需要給當\"半旬\"（約5天）的天氣資料，它才能給出\"當半旬\"是否開花。"
   ]
  },
  {
   "cell_type": "markdown",
   "metadata": {},
   "source": [
    "#### 1-3：用SVM預測下半旬是否開花\n",
    "改變原本dataset內容，假設櫻花開花只與前半旬天氣有關、且僅考慮開花時間點，不考慮什麼時候滿開，以此進行預測。如此一來，只要input當半旬天氣資料，便能\"預測\"下半旬是否開花。"
   ]
  },
  {
   "cell_type": "markdown",
   "metadata": {},
   "source": [
    "新的dataset僅更改原本label，開花前半旬為1，其他為0。用與前兩部分相同方式讀取資料。"
   ]
  },
  {
   "cell_type": "code",
   "execution_count": 15,
   "metadata": {},
   "outputs": [
    {
     "data": {
      "text/html": [
       "<div>\n",
       "<style scoped>\n",
       "    .dataframe tbody tr th:only-of-type {\n",
       "        vertical-align: middle;\n",
       "    }\n",
       "\n",
       "    .dataframe tbody tr th {\n",
       "        vertical-align: top;\n",
       "    }\n",
       "\n",
       "    .dataframe thead th {\n",
       "        text-align: right;\n",
       "    }\n",
       "</style>\n",
       "<table border=\"1\" class=\"dataframe\">\n",
       "  <thead>\n",
       "    <tr style=\"text-align: right;\">\n",
       "      <th></th>\n",
       "      <th>year</th>\n",
       "      <th>month</th>\n",
       "      <th>day</th>\n",
       "      <th>atm(hPa)</th>\n",
       "      <th>Rav(mm)</th>\n",
       "      <th>Rmax_day(mm)</th>\n",
       "      <th>Rmax_hr(mm)</th>\n",
       "      <th>Rmax_10min(mm)</th>\n",
       "      <th>Tav(¢J)</th>\n",
       "      <th>Tav_max(¢J)</th>\n",
       "      <th>...</th>\n",
       "      <th>sun (h)</th>\n",
       "      <th>sunshine (MJ/¢T)</th>\n",
       "      <th>snow(cm)</th>\n",
       "      <th>snow_max(cm)</th>\n",
       "      <th>snow_depth(cm)</th>\n",
       "      <th>cloud</th>\n",
       "      <th>snow_day</th>\n",
       "      <th>fog_day</th>\n",
       "      <th>thunder_day</th>\n",
       "      <th>Label</th>\n",
       "    </tr>\n",
       "  </thead>\n",
       "  <tbody>\n",
       "    <tr>\n",
       "      <th>0</th>\n",
       "      <td>2008</td>\n",
       "      <td>1</td>\n",
       "      <td>1 to  5</td>\n",
       "      <td>1009.2</td>\n",
       "      <td>0.0</td>\n",
       "      <td>0.0</td>\n",
       "      <td>0.0</td>\n",
       "      <td>0.0</td>\n",
       "      <td>6.2</td>\n",
       "      <td>10.7</td>\n",
       "      <td>...</td>\n",
       "      <td>37.8</td>\n",
       "      <td>10.4</td>\n",
       "      <td>0</td>\n",
       "      <td>0</td>\n",
       "      <td>0</td>\n",
       "      <td>1.6</td>\n",
       "      <td>0</td>\n",
       "      <td>0</td>\n",
       "      <td>0</td>\n",
       "      <td>0</td>\n",
       "    </tr>\n",
       "    <tr>\n",
       "      <th>1</th>\n",
       "      <td>2008</td>\n",
       "      <td>1</td>\n",
       "      <td>6 to 10</td>\n",
       "      <td>1011.4</td>\n",
       "      <td>0.0</td>\n",
       "      <td>0.0</td>\n",
       "      <td>0.0</td>\n",
       "      <td>0.0</td>\n",
       "      <td>9.0</td>\n",
       "      <td>12.9</td>\n",
       "      <td>...</td>\n",
       "      <td>30.0</td>\n",
       "      <td>8.4</td>\n",
       "      <td>0</td>\n",
       "      <td>0</td>\n",
       "      <td>0</td>\n",
       "      <td>3.8</td>\n",
       "      <td>0</td>\n",
       "      <td>0</td>\n",
       "      <td>0</td>\n",
       "      <td>0</td>\n",
       "    </tr>\n",
       "    <tr>\n",
       "      <th>2</th>\n",
       "      <td>2008</td>\n",
       "      <td>1</td>\n",
       "      <td>11 to 15</td>\n",
       "      <td>1015.4</td>\n",
       "      <td>6.0</td>\n",
       "      <td>6.0</td>\n",
       "      <td>2.0</td>\n",
       "      <td>0.5</td>\n",
       "      <td>6.1</td>\n",
       "      <td>9.1</td>\n",
       "      <td>...</td>\n",
       "      <td>15.5</td>\n",
       "      <td>6.0</td>\n",
       "      <td>0</td>\n",
       "      <td>0</td>\n",
       "      <td>0</td>\n",
       "      <td>7.4</td>\n",
       "      <td>0</td>\n",
       "      <td>0</td>\n",
       "      <td>0</td>\n",
       "      <td>0</td>\n",
       "    </tr>\n",
       "    <tr>\n",
       "      <th>3</th>\n",
       "      <td>2008</td>\n",
       "      <td>1</td>\n",
       "      <td>16 to 20</td>\n",
       "      <td>1020.2</td>\n",
       "      <td>0.0</td>\n",
       "      <td>0.0</td>\n",
       "      <td>0.0</td>\n",
       "      <td>0.0</td>\n",
       "      <td>4.6</td>\n",
       "      <td>8.0</td>\n",
       "      <td>...</td>\n",
       "      <td>26.5</td>\n",
       "      <td>9.3</td>\n",
       "      <td>0</td>\n",
       "      <td>0</td>\n",
       "      <td>0</td>\n",
       "      <td>8.0</td>\n",
       "      <td>2</td>\n",
       "      <td>0</td>\n",
       "      <td>0</td>\n",
       "      <td>0</td>\n",
       "    </tr>\n",
       "    <tr>\n",
       "      <th>4</th>\n",
       "      <td>2008</td>\n",
       "      <td>1</td>\n",
       "      <td>21 to 25</td>\n",
       "      <td>1012.9</td>\n",
       "      <td>10.5</td>\n",
       "      <td>10.5</td>\n",
       "      <td>2.0</td>\n",
       "      <td>0.5</td>\n",
       "      <td>4.1</td>\n",
       "      <td>6.9</td>\n",
       "      <td>...</td>\n",
       "      <td>22.1</td>\n",
       "      <td>7.9</td>\n",
       "      <td>0</td>\n",
       "      <td>0</td>\n",
       "      <td>0</td>\n",
       "      <td>6.7</td>\n",
       "      <td>1</td>\n",
       "      <td>0</td>\n",
       "      <td>0</td>\n",
       "      <td>0</td>\n",
       "    </tr>\n",
       "  </tbody>\n",
       "</table>\n",
       "<p>5 rows × 25 columns</p>\n",
       "</div>"
      ],
      "text/plain": [
       "   year  month       day  atm(hPa)  Rav(mm)  Rmax_day(mm)  Rmax_hr(mm)  \\\n",
       "0  2008      1   1 to  5    1009.2      0.0           0.0          0.0   \n",
       "1  2008      1   6 to 10    1011.4      0.0           0.0          0.0   \n",
       "2  2008      1  11 to 15    1015.4      6.0           6.0          2.0   \n",
       "3  2008      1  16 to 20    1020.2      0.0           0.0          0.0   \n",
       "4  2008      1  21 to 25    1012.9     10.5          10.5          2.0   \n",
       "\n",
       "   Rmax_10min(mm)  Tav(¢J)  Tav_max(¢J)  ...  sun (h)  sunshine (MJ/¢T)  \\\n",
       "0             0.0      6.2         10.7  ...     37.8              10.4   \n",
       "1             0.0      9.0         12.9  ...     30.0               8.4   \n",
       "2             0.5      6.1          9.1  ...     15.5               6.0   \n",
       "3             0.0      4.6          8.0  ...     26.5               9.3   \n",
       "4             0.5      4.1          6.9  ...     22.1               7.9   \n",
       "\n",
       "   snow(cm)  snow_max(cm)  snow_depth(cm)  cloud  snow_day  fog_day  \\\n",
       "0         0             0               0    1.6         0        0   \n",
       "1         0             0               0    3.8         0        0   \n",
       "2         0             0               0    7.4         0        0   \n",
       "3         0             0               0    8.0         2        0   \n",
       "4         0             0               0    6.7         1        0   \n",
       "\n",
       "   thunder_day  Label  \n",
       "0            0      0  \n",
       "1            0      0  \n",
       "2            0      0  \n",
       "3            0      0  \n",
       "4            0      0  \n",
       "\n",
       "[5 rows x 25 columns]"
      ]
     },
     "execution_count": 15,
     "metadata": {},
     "output_type": "execute_result"
    }
   ],
   "source": [
    "import pandas as pd\n",
    "path = \"data_tokyo_pre.csv\"\n",
    "\n",
    "df = pd.read_csv(path, encoding='latin1')\n",
    "df.head()"
   ]
  },
  {
   "cell_type": "markdown",
   "metadata": {},
   "source": [
    "把讀取進來的資料分別放進X, y。"
   ]
  },
  {
   "cell_type": "code",
   "execution_count": 16,
   "metadata": {},
   "outputs": [
    {
     "name": "stdout",
     "output_type": "stream",
     "text": [
      "X: [1015.4 6.0 6.0 2.0 0.5 6.1 9.1 3.3 13.0 1.9 45 23 15.5 6.0 0 0 0 7.4 0 0\n",
      " 0]\n",
      "Label: 0\n",
      "Labels counts in y [923  13]\n"
     ]
    }
   ],
   "source": [
    "import numpy as np\n",
    "\n",
    "data = df.T\n",
    "\n",
    "X = []\n",
    "y = []\n",
    "for i in range(len(data.T)): # for all input data\n",
    "    # store all data into X & y\n",
    "    X.append(np.array(data[i][3:24]))\n",
    "    y.append(data[i][24])\n",
    "print(\"X:\", X[2])\n",
    "print(\"Label:\", y[2])\n",
    "print('Labels counts in y', np.bincount(y))"
   ]
  },
  {
   "cell_type": "markdown",
   "metadata": {},
   "source": [
    "可以看到label=1的數量相對稀少很多，而這也是合理的，因為櫻花一年只會開一次。為了train出更好的model，我們先upsample、平衡兩個classes間的差距。"
   ]
  },
  {
   "cell_type": "code",
   "execution_count": 17,
   "metadata": {},
   "outputs": [
    {
     "name": "stdout",
     "output_type": "stream",
     "text": [
      "Labels counts in y_bal [923 923]\n"
     ]
    }
   ],
   "source": [
    "from sklearn.utils import resample\n",
    "y = np.array(y)\n",
    "X = np.array(X)\n",
    "\n",
    "X_upsampled, y_upsampled = resample(X[y==1],\n",
    "                                   y[y==1],\n",
    "                                   replace=True,\n",
    "                                   n_samples=X[y==0].shape[0],\n",
    "                                   random_state=123)\n",
    "X_bal = np.vstack((X[y==0], X_upsampled))\n",
    "y_bal = np.hstack((y[y==0], y_upsampled))\n",
    "print('Labels counts in y_bal', np.bincount(y_bal))"
   ]
  },
  {
   "cell_type": "markdown",
   "metadata": {},
   "source": [
    "同樣將balanced dataset分成training與testing set、做standardization，並用LDA降低input features維度。因為總共只有2種classes，LDA最多只能留下1個feature。"
   ]
  },
  {
   "cell_type": "code",
   "execution_count": 18,
   "metadata": {},
   "outputs": [
    {
     "name": "stdout",
     "output_type": "stream",
     "text": [
      "X_train shape: (1292, 21) y_train shape: (1292,)\n",
      "X_test shape: (554, 21) y_test shape: (554,)\n",
      "(1292, 1)\n",
      "(554, 1)\n"
     ]
    },
    {
     "data": {
      "text/plain": [
       "array([[-2.31414079e-02],\n",
       "       [ 1.25319653e-01],\n",
       "       [-2.16563968e-01],\n",
       "       [ 1.70098773e-01],\n",
       "       [-1.93857443e-01],\n",
       "       [ 2.60421348e+00],\n",
       "       [-1.93333859e+00],\n",
       "       [-2.83079594e+00],\n",
       "       [ 1.12271026e+00],\n",
       "       [-5.00371809e-01],\n",
       "       [ 2.66694394e-01],\n",
       "       [ 8.15765736e-03],\n",
       "       [-9.64220152e-01],\n",
       "       [ 1.23778639e+00],\n",
       "       [ 3.79199332e-01],\n",
       "       [-2.99238714e-03],\n",
       "       [-3.40257071e-01],\n",
       "       [ 1.43701291e-02],\n",
       "       [-5.08542075e-01],\n",
       "       [ 1.38291015e-03],\n",
       "       [-7.80961031e-02]])"
      ]
     },
     "execution_count": 18,
     "metadata": {},
     "output_type": "execute_result"
    }
   ],
   "source": [
    "from sklearn.model_selection import train_test_split\n",
    "from sklearn.preprocessing import StandardScaler\n",
    "from sklearn.discriminant_analysis import LinearDiscriminantAnalysis as LDA\n",
    "\n",
    "# split into 70% training & 30% testing\n",
    "X_train, X_test, y_train, y_test = train_test_split(X_bal, \n",
    "        y_bal, test_size=0.3, random_state=1, stratify=y_bal)\n",
    "print(\"X_train shape:\", np.array(X_train).shape, \"y_train shape:\", np.array(y_train).shape)\n",
    "print(\"X_test shape:\", np.array(X_test).shape, \"y_test shape:\", np.array(y_test).shape)\n",
    "\n",
    "# standardize Xs\n",
    "stdsc = StandardScaler()\n",
    "X_train_std = stdsc.fit_transform(X_train)\n",
    "X_test_std = stdsc.transform(X_test)\n",
    "\n",
    "lda = LDA(n_components=1)\n",
    "X_train_lda = lda.fit_transform(X_train_std, y_train)\n",
    "X_test_lda = lda.transform(X_test_std)\n",
    "print(X_train_lda.shape)\n",
    "print(X_test_lda.shape)\n",
    "lda.scalings_"
   ]
  },
  {
   "cell_type": "markdown",
   "metadata": {},
   "source": [
    "繼續使用SVM，並利用Grid Search找到表現最佳的參數組合。希望要盡可能地答對\"開花時間\"，Performance的判定上使用f1，並利用0.1的validation fold訓練出更好的model。另外，為了有效地利用CPU，將n_jobs設為-1。"
   ]
  },
  {
   "cell_type": "code",
   "execution_count": 19,
   "metadata": {},
   "outputs": [
    {
     "name": "stdout",
     "output_type": "stream",
     "text": [
      "Training time: 0:00:24.743289\n",
      "0.9900870161758537\n",
      "{'C': 1000.0, 'gamma': 1000.0, 'kernel': 'rbf'}\n"
     ]
    }
   ],
   "source": [
    "from sklearn.svm import SVC\n",
    "from sklearn.model_selection import GridSearchCV\n",
    "from datetime import datetime\n",
    "from sklearn.metrics import f1_score\n",
    "\n",
    "# train SVM using Grid Search\n",
    "svm = SVC(random_state=1)\n",
    "param_range = [0.0001, 0.001, 0.01, 0.1, 1.0, 10.0, 100.0, 1000.0]\n",
    "param_grid = [{'C': param_range,\n",
    "               'kernel':['linear']},\n",
    "              {'C': param_range,\n",
    "               'gamma': param_range,\n",
    "               'kernel': ['rbf']}]\n",
    "gs = GridSearchCV(estimator=svm,\n",
    "                 param_grid = param_grid,\n",
    "                 scoring='f1',\n",
    "                 refit=True,\n",
    "                 cv=10,\n",
    "                 n_jobs=-1)\n",
    "start=datetime.now()\n",
    "gs = gs.fit(X_train_lda, y_train)\n",
    "print('Training time:', datetime.now()-start)\n",
    "print(gs.best_score_)\n",
    "print(gs.best_params_)"
   ]
  },
  {
   "cell_type": "markdown",
   "metadata": {},
   "source": [
    "因為features維度下降，再加上總sample數也相對少，與1-2相比training time大幅下降。雖然performance不如1-2，但這個model才能真正地\"預測\"開花。"
   ]
  },
  {
   "cell_type": "code",
   "execution_count": 20,
   "metadata": {},
   "outputs": [
    {
     "name": "stdout",
     "output_type": "stream",
     "text": [
      "accuracy: 0.9945848375451264\n",
      "f1 score: 0.9946140035906643\n",
      "f1 score macro: 0.9945846787463304\n",
      "f1 score micro: 0.9945848375451264\n"
     ]
    }
   ],
   "source": [
    "from sklearn import metrics\n",
    "clf = gs.best_estimator_\n",
    "\n",
    "y_pred = clf.predict(X_test_lda)\n",
    "print (\"accuracy:\",metrics.accuracy_score(y_test, y_pred))\n",
    "print (\"f1 score:\",metrics.f1_score(y_test, y_pred) )\n",
    "print (\"f1 score macro:\",metrics.f1_score(y_test, y_pred, average='macro') )\n",
    "print (\"f1 score micro:\",metrics.f1_score(y_test, y_pred, average='micro') )"
   ]
  },
  {
   "cell_type": "markdown",
   "metadata": {},
   "source": [
    "可以看到不管用哪一種方式判定performance，大約都有99.5%的正確率。"
   ]
  },
  {
   "cell_type": "code",
   "execution_count": 21,
   "metadata": {
    "scrolled": true
   },
   "outputs": [
    {
     "data": {
      "text/plain": [
       "<sklearn.metrics._plot.confusion_matrix.ConfusionMatrixDisplay at 0x1de5aa608e0>"
      ]
     },
     "execution_count": 21,
     "metadata": {},
     "output_type": "execute_result"
    },
    {
     "data": {
      "image/png": "[encoded data removed]",
      "text/plain": [
       "<Figure size 432x288 with 2 Axes>"
      ]
     },
     "metadata": {
      "needs_background": "light"
     },
     "output_type": "display_data"
    }
   ],
   "source": [
    "from sklearn.metrics import plot_confusion_matrix\n",
    "plot_confusion_matrix(clf, X_test_lda, y_test)"
   ]
  },
  {
   "cell_type": "markdown",
   "metadata": {},
   "source": [
    "從confusion matrix可以看出來，雖然這個model會有誤判的時候，但卻不會錯過任何\"下半旬\"開花的可能性，且預測會開花、而真的有開花的機率挺高的，約為98.9%（=277/(277+3)）。"
   ]
  },
  {
   "cell_type": "markdown",
   "metadata": {},
   "source": [
    "#### 1-4：用其他classifier預測下半旬是否開花\n",
    "用上述相同dataset，嘗試使用其他ML models，並比較各自的performance。"
   ]
  },
  {
   "cell_type": "code",
   "execution_count": 22,
   "metadata": {},
   "outputs": [
    {
     "name": "stdout",
     "output_type": "stream",
     "text": [
      "Accuracy: 0.87 (+/- 0.02) [Logistic Regression]\n",
      "Accuracy: 0.99 (+/- 0.01) [Random Forest]\n",
      "Accuracy: 0.97 (+/- 0.01) [K-Neighbors]\n",
      "Accuracy: 0.85 (+/- 0.03) [SVM]\n",
      "Accuracy: 0.98 (+/- 0.01) [Ensemble]\n",
      "Test accuracy:  0.984\n"
     ]
    }
   ],
   "source": [
    "from sklearn.ensemble import RandomForestClassifier, VotingClassifier\n",
    "from sklearn.linear_model import LogisticRegression\n",
    "from sklearn.model_selection import cross_val_score\n",
    "from sklearn.neighbors import KNeighborsClassifier\n",
    "\n",
    "# train model\n",
    "clf1 = LogisticRegression(random_state=1)\n",
    "clf2 = RandomForestClassifier(n_estimators=10, random_state=1)\n",
    "clf3 = KNeighborsClassifier()\n",
    "clf4 = SVC(probability=True)\n",
    "\n",
    "# larger weight for classifier w/ higher accuracy\n",
    "eclf = VotingClassifier(\n",
    "     estimators=[('lr', clf1), ('rf', clf2), ('knn', clf3), ('svm', clf4)],\n",
    "     voting='soft', weights=[1,4,4,1])\n",
    "\n",
    "# print out each & overall accuracies\n",
    "for clf, label in zip([clf1, clf2, clf3, clf4, eclf], ['Logistic Regression', 'Random Forest', 'K-Neighbors', 'SVM', 'Ensemble']):\n",
    "     scores = cross_val_score(clf, X_train_lda, y_train, scoring='f1', cv=5)\n",
    "     print(\"Accuracy: %0.2f (+/- %0.2f) [%s]\" % (scores.mean(), scores.std(), label))\n",
    "\n",
    "# Predict on test set\n",
    "eclf = eclf.fit(X_train_lda, y_train)\n",
    "print('Test accuracy: % .3f' % eclf.score(X_test_lda, y_test))"
   ]
  },
  {
   "cell_type": "markdown",
   "metadata": {},
   "source": [
    "可以看到當所有classifier表現都不錯時，Ensemble Classifier並沒辦法提升太多performance。我們把training accuracy最高的Random Forest單獨拉出來測試。"
   ]
  },
  {
   "cell_type": "code",
   "execution_count": 23,
   "metadata": {},
   "outputs": [
    {
     "name": "stdout",
     "output_type": "stream",
     "text": [
      "Test accuracy: 0.9945848375451264\n"
     ]
    }
   ],
   "source": [
    "forest = RandomForestClassifier(n_estimators=10, random_state=1)\n",
    "forest = forest.fit(X_train_lda, y_train)\n",
    "print('Test accuracy:' , forest.score(X_test_lda, y_test))"
   ]
  },
  {
   "cell_type": "markdown",
   "metadata": {},
   "source": [
    "#### 1-5：探討Random Forest參數\n",
    "因為上述Random Forest表現與SVM差不多好，又符合我們想要\"預測\"花期的功能，看看是否能改用Random Forest model提升它的準確率，或降低訓練時間。"
   ]
  },
  {
   "cell_type": "markdown",
   "metadata": {},
   "source": [
    "Random Forest有許多參數可以調整。我將criterion設為gini，將n_jobs設為-1、盡可能地利用CPU。而為了避免overfitting，我設最大深度為1，也就是features的總數。bootstrap則是設定採樣是否有放回，我採用的方法是bagging也就是採樣會放回的方法。"
   ]
  },
  {
   "cell_type": "markdown",
   "metadata": {},
   "source": [
    "n_estimators設定的是樹的總量。在其他參數固定的狀況下，我試了幾種不同值，以正確率100%為目標，選擇樹最少、表現最穩定的值以達到較佳的效率（避免過多計算）。Training與testing data直接使用上方的X_train_lda, y_train, X_test_lda, 及y_test。"
   ]
  },
  {
   "cell_type": "code",
   "execution_count": 24,
   "metadata": {},
   "outputs": [
    {
     "name": "stdout",
     "output_type": "stream",
     "text": [
      "Accuracy when n =  1 : 0.8700361010830325\n",
      "Accuracy when n =  2 : 0.8700361010830325\n",
      "Accuracy when n =  3 : 0.8700361010830325\n",
      "Accuracy when n =  4 : 0.8700361010830325\n",
      "Accuracy when n =  5 : 0.8700361010830325\n",
      "Accuracy when n =  6 : 0.8700361010830325\n",
      "Accuracy when n =  7 : 0.8700361010830325\n",
      "Accuracy when n =  8 : 0.8700361010830325\n",
      "Accuracy when n =  9 : 0.8700361010830325\n",
      "Accuracy when n =  10 : 0.8700361010830325\n",
      "Accuracy when n =  11 : 0.8700361010830325\n",
      "Accuracy when n =  12 : 0.8700361010830325\n",
      "Accuracy when n =  13 : 0.8700361010830325\n",
      "Accuracy when n =  14 : 0.8700361010830325\n",
      "Accuracy when n =  15 : 0.8700361010830325\n",
      "Accuracy when n =  16 : 0.8700361010830325\n",
      "Accuracy when n =  17 : 0.8700361010830325\n",
      "Accuracy when n =  18 : 0.8700361010830325\n",
      "Accuracy when n =  19 : 0.8700361010830325\n",
      "Accuracy when n =  20 : 0.8700361010830325\n",
      "Accuracy when n =  21 : 0.8700361010830325\n",
      "Accuracy when n =  22 : 0.8700361010830325\n",
      "Accuracy when n =  23 : 0.8700361010830325\n",
      "Accuracy when n =  24 : 0.8700361010830325\n",
      "Accuracy when n =  25 : 0.8700361010830325\n",
      "Accuracy when n =  26 : 0.8700361010830325\n",
      "Accuracy when n =  27 : 0.8700361010830325\n",
      "Accuracy when n =  28 : 0.8700361010830325\n",
      "Accuracy when n =  29 : 0.8700361010830325\n",
      "Accuracy when n =  30 : 0.8700361010830325\n",
      "Accuracy when n =  31 : 0.8700361010830325\n",
      "Accuracy when n =  32 : 0.8700361010830325\n",
      "Accuracy when n =  33 : 0.8700361010830325\n",
      "Accuracy when n =  34 : 0.8700361010830325\n",
      "Accuracy when n =  35 : 0.8700361010830325\n",
      "Accuracy when n =  36 : 0.8700361010830325\n",
      "Accuracy when n =  37 : 0.8700361010830325\n",
      "Accuracy when n =  38 : 0.8700361010830325\n",
      "Accuracy when n =  39 : 0.8700361010830325\n",
      "Accuracy when n =  40 : 0.8700361010830325\n",
      "Accuracy when n =  41 : 0.8700361010830325\n",
      "Accuracy when n =  42 : 0.8700361010830325\n",
      "Accuracy when n =  43 : 0.8700361010830325\n",
      "Accuracy when n =  44 : 0.8700361010830325\n",
      "Accuracy when n =  45 : 0.8700361010830325\n",
      "Accuracy when n =  46 : 0.8700361010830325\n",
      "Accuracy when n =  47 : 0.8700361010830325\n",
      "Accuracy when n =  48 : 0.8700361010830325\n",
      "Accuracy when n =  49 : 0.8700361010830325\n",
      "Accuracy when n =  50 : 0.8700361010830325\n",
      "Accuracy when n =  51 : 0.8700361010830325\n",
      "Accuracy when n =  52 : 0.8700361010830325\n",
      "Accuracy when n =  53 : 0.8700361010830325\n",
      "Accuracy when n =  54 : 0.8700361010830325\n",
      "Accuracy when n =  55 : 0.8700361010830325\n",
      "Accuracy when n =  56 : 0.8700361010830325\n",
      "Accuracy when n =  57 : 0.8700361010830325\n",
      "Accuracy when n =  58 : 0.8700361010830325\n",
      "Accuracy when n =  59 : 0.8700361010830325\n",
      "Accuracy when n =  60 : 0.8700361010830325\n",
      "Accuracy when n =  61 : 0.8700361010830325\n",
      "Accuracy when n =  62 : 0.8700361010830325\n",
      "Accuracy when n =  63 : 0.8700361010830325\n",
      "Accuracy when n =  64 : 0.8700361010830325\n",
      "Accuracy when n =  65 : 0.8700361010830325\n",
      "Accuracy when n =  66 : 0.8700361010830325\n",
      "Accuracy when n =  67 : 0.8700361010830325\n",
      "Accuracy when n =  68 : 0.8700361010830325\n",
      "Accuracy when n =  69 : 0.8700361010830325\n",
      "Accuracy when n =  70 : 0.8700361010830325\n",
      "Accuracy when n =  71 : 0.8700361010830325\n",
      "Accuracy when n =  72 : 0.8700361010830325\n",
      "Accuracy when n =  73 : 0.8700361010830325\n",
      "Accuracy when n =  74 : 0.8700361010830325\n",
      "Accuracy when n =  75 : 0.8700361010830325\n",
      "Accuracy when n =  76 : 0.8700361010830325\n",
      "Accuracy when n =  77 : 0.8700361010830325\n",
      "Accuracy when n =  78 : 0.8700361010830325\n",
      "Accuracy when n =  79 : 0.8700361010830325\n",
      "Accuracy when n =  80 : 0.8700361010830325\n",
      "Accuracy when n =  81 : 0.8700361010830325\n",
      "Accuracy when n =  82 : 0.8700361010830325\n",
      "Accuracy when n =  83 : 0.8700361010830325\n",
      "Accuracy when n =  84 : 0.8700361010830325\n",
      "Accuracy when n =  85 : 0.8700361010830325\n",
      "Accuracy when n =  86 : 0.8700361010830325\n",
      "Accuracy when n =  87 : 0.8700361010830325\n",
      "Accuracy when n =  88 : 0.8700361010830325\n",
      "Accuracy when n =  89 : 0.8700361010830325\n",
      "Accuracy when n =  90 : 0.8700361010830325\n",
      "Accuracy when n =  91 : 0.8700361010830325\n",
      "Accuracy when n =  92 : 0.8700361010830325\n",
      "Accuracy when n =  93 : 0.8700361010830325\n",
      "Accuracy when n =  94 : 0.8700361010830325\n",
      "Accuracy when n =  95 : 0.8700361010830325\n",
      "Accuracy when n =  96 : 0.8700361010830325\n",
      "Accuracy when n =  97 : 0.8700361010830325\n",
      "Accuracy when n =  98 : 0.8700361010830325\n",
      "Accuracy when n =  99 : 0.8700361010830325\n",
      "Accuracy when n =  100 : 0.8700361010830325\n"
     ]
    },
    {
     "data": {
      "image/png": "[encoded data removed]",
      "text/plain": [
       "<Figure size 432x288 with 1 Axes>"
      ]
     },
     "metadata": {
      "needs_background": "light"
     },
     "output_type": "display_data"
    }
   ],
   "source": [
    "import matplotlib.pyplot as plt\n",
    "\n",
    "x_axis = []                            # records number of trees\n",
    "y_axis = []                            # records accuracy\n",
    "acc = 0                                # stores accuracy\n",
    "for i in range(1, 101):                # 1~100 trees\n",
    "    # build model\n",
    "    forest = RandomForestClassifier(criterion='gini', max_depth=1, n_estimators=i,\n",
    "                                    bootstrap=True, random_state=1, n_jobs=-1)                   \n",
    "    forest.fit(X_train_lda, y_train)\n",
    "    \n",
    "    x_axis.append(i)                          # put i into the list\n",
    "    acc = forest.score(X_test_lda, y_test)    # get accuracy\n",
    "    print('Accuracy when n = ', i, ':', acc)  # print accuracy & its num of trees\n",
    "    y_axis.append(acc)                        # put acc into the list\n",
    "\n",
    "# plot accuracy vs num of trees\n",
    "plt.plot(x_axis, y_axis)\n",
    "plt.xlabel('Number of Trees(n_estimators)')\n",
    "plt.ylabel('Accuracy')\n",
    "plt.show()"
   ]
  },
  {
   "cell_type": "markdown",
   "metadata": {},
   "source": [
    "發現將最大深度設為1後，它的performance反而沒有原本好。原本的model可能產生overfitting了。\n",
    "#### 1-6：比較training time"
   ]
  },
  {
   "cell_type": "code",
   "execution_count": 25,
   "metadata": {},
   "outputs": [
    {
     "name": "stdout",
     "output_type": "stream",
     "text": [
      "Training time for SVM: 0:00:00.012963\n",
      "Accuracy for SVM: 0.9945848375451264\n",
      "Training time for Random Forest: 0:00:00.018949\n",
      "Accuracy for Random Forest: 0.8700361010830325\n",
      "Training time for Ensemble: 0:00:00.154587\n",
      "Accuracy for Ensemble: 0.983754512635379\n"
     ]
    }
   ],
   "source": [
    "# compare training time\n",
    "svm = SVC(C=1000.0, gamma=1000.0, kernel='rbf', random_state=1)\n",
    "start=datetime.now()                                 \n",
    "svm.fit(X_train_lda, y_train)\n",
    "print('Training time for SVM:', datetime.now()-start)\n",
    "print('Accuracy for SVM:', svm.score(X_test_lda, y_test))\n",
    "\n",
    "forest = RandomForestClassifier(criterion='gini', max_depth=1, n_estimators=2,\n",
    "                                    bootstrap=True, random_state=1, n_jobs=-1)\n",
    "start=datetime.now()                                 \n",
    "forest.fit(X_train_lda, y_train)\n",
    "print('Training time for Random Forest:', datetime.now()-start)\n",
    "print('Accuracy for Random Forest:', forest.score(X_test_lda, y_test))\n",
    "\n",
    "# ensemble\n",
    "clf1 = LogisticRegression(random_state=1)\n",
    "clf2 = RandomForestClassifier(n_estimators=10, random_state=1)\n",
    "clf3 = KNeighborsClassifier()\n",
    "clf4 = SVC(probability=True)\n",
    "# larger weights for classifier w/ higher accuracy\n",
    "eclf = VotingClassifier(\n",
    "     estimators=[('lr', clf1), ('rf', clf2), ('knn', clf3), ('svm', clf4)],\n",
    "     voting='soft', weights=[1,4,4,1])\n",
    "start=datetime.now() \n",
    "eclf = eclf.fit(X_train_lda, y_train)\n",
    "print('Training time for Ensemble:', datetime.now()-start)\n",
    "print('Accuracy for Ensemble:', eclf.score(X_test_lda, y_test))"
   ]
  },
  {
   "cell_type": "markdown",
   "metadata": {},
   "source": [
    "因為SVM的訓練時間較短，又有好的performance，我們最終選擇使用SVM為我們的model。"
   ]
  },
  {
   "cell_type": "markdown",
   "metadata": {},
   "source": [
    "### 附錄：其他地區模型\n",
    "用1-3的方法訓練預測其他地區櫻花花期的模型。\n",
    "#### 京都\n",
    "讀進input data，並進行一連串data preprocessing。因為京都完全沒有全天日照量的資料，和東京相比、它原本的features數少1。"
   ]
  },
  {
   "cell_type": "code",
   "execution_count": 26,
   "metadata": {
    "scrolled": true
   },
   "outputs": [
    {
     "name": "stdout",
     "output_type": "stream",
     "text": [
      "(1292, 1)\n",
      "(554, 1)\n"
     ]
    },
    {
     "data": {
      "text/plain": [
       "array([[ 0.35318174],\n",
       "       [ 0.03894372],\n",
       "       [ 0.36811564],\n",
       "       [-0.25169177],\n",
       "       [ 0.18773929],\n",
       "       [-5.22561967],\n",
       "       [ 2.94779097],\n",
       "       [ 0.620679  ],\n",
       "       [ 1.3860487 ],\n",
       "       [-0.3099987 ],\n",
       "       [-0.37542344],\n",
       "       [-0.57379507],\n",
       "       [-0.41927516],\n",
       "       [ 0.59873984],\n",
       "       [-0.63222805],\n",
       "       [-0.02216921],\n",
       "       [ 0.36196838],\n",
       "       [-0.17313921],\n",
       "       [-0.01361691],\n",
       "       [ 0.03550258]])"
      ]
     },
     "execution_count": 26,
     "metadata": {},
     "output_type": "execute_result"
    }
   ],
   "source": [
    "import pandas as pd\n",
    "import numpy as np\n",
    "from sklearn.svm import SVC\n",
    "from sklearn.utils import resample\n",
    "from sklearn.model_selection import train_test_split\n",
    "from sklearn.preprocessing import StandardScaler\n",
    "from sklearn.discriminant_analysis import LinearDiscriminantAnalysis as LDA\n",
    "\n",
    "# read in data for prediction for Kyoto\n",
    "path = \"data_kyoto_pre.csv\"\n",
    "df = pd.read_csv(path, encoding='latin1')\n",
    "\n",
    "# put data into X & y\n",
    "data = df.T\n",
    "X = []\n",
    "y = []\n",
    "for i in range(len(data.T)): # for total input data\n",
    "    # store all data into X & y\n",
    "    X.append(np.array(data[i][3:23]))\n",
    "    y.append(data[i][23])\n",
    "\n",
    "# balance data\n",
    "y = np.array(y)\n",
    "X = np.array(X)\n",
    "X_upsampled, y_upsampled = resample(X[y==1],\n",
    "                                   y[y==1],\n",
    "                                   replace=True,\n",
    "                                   n_samples=X[y==0].shape[0],\n",
    "                                   random_state=123)\n",
    "X_bal = np.vstack((X[y==0], X_upsampled))\n",
    "y_bal = np.hstack((y[y==0], y_upsampled))\n",
    "\n",
    "# split into 70% training & 30% testing\n",
    "X_train, X_test, y_train, y_test = train_test_split(X_bal, \n",
    "        y_bal, test_size=0.3, random_state=1, stratify=y_bal)\n",
    "\n",
    "# standardize Xs\n",
    "stdsc = StandardScaler()\n",
    "X_train_std = stdsc.fit_transform(X_train)\n",
    "X_test_std = stdsc.transform(X_test)\n",
    "\n",
    "# feature-extract Xs\n",
    "lda = LDA(n_components=1)\n",
    "X_train_lda = lda.fit_transform(X_train_std, y_train)\n",
    "X_test_lda = lda.transform(X_test_std)\n",
    "print(X_train_lda.shape)\n",
    "print(X_test_lda.shape)\n",
    "lda.scalings_"
   ]
  },
  {
   "cell_type": "markdown",
   "metadata": {},
   "source": [
    "有了降過維度的input data後，利用Grid Search找合適的參數。"
   ]
  },
  {
   "cell_type": "code",
   "execution_count": 27,
   "metadata": {},
   "outputs": [
    {
     "name": "stdout",
     "output_type": "stream",
     "text": [
      "Training time: 0:00:13.032361\n",
      "0.9916256556534243\n",
      "{'C': 1000.0, 'gamma': 1000.0, 'kernel': 'rbf'}\n",
      "accuracy: 0.9909747292418772\n",
      "f1 score: 0.9910554561717353\n",
      "f1 score macro: 0.9909739940239368\n",
      "f1 score micro: 0.9909747292418772\n"
     ]
    }
   ],
   "source": [
    "from sklearn.model_selection import GridSearchCV\n",
    "from datetime import datetime\n",
    "from sklearn.metrics import f1_score\n",
    "from sklearn import metrics\n",
    "\n",
    "# train SVM using Grid Search\n",
    "svm = SVC(random_state=1)\n",
    "param_range = [0.0001, 0.001, 0.01, 0.1, 1.0, 10.0, 100.0, 1000.0]\n",
    "param_grid = [{'C': param_range,\n",
    "               'kernel':['linear']},\n",
    "              {'C': param_range,\n",
    "               'gamma': param_range,\n",
    "               'kernel': ['rbf']}]\n",
    "gs = GridSearchCV(estimator=svm,\n",
    "                 param_grid = param_grid,\n",
    "                 scoring='f1',\n",
    "                 refit=True,\n",
    "                 cv=10,\n",
    "                 n_jobs=-1)\n",
    "start=datetime.now()\n",
    "gs = gs.fit(X_train_lda, y_train)\n",
    "print('Training time:', datetime.now()-start)\n",
    "print(gs.best_score_)\n",
    "print(gs.best_params_)\n",
    "\n",
    "clf = gs.best_estimator_\n",
    "y_pred = clf.predict(X_test_lda)\n",
    "print (\"accuracy:\",metrics.accuracy_score(y_test, y_pred))\n",
    "print (\"f1 score:\",metrics.f1_score(y_test, y_pred) )\n",
    "print (\"f1 score macro:\",metrics.f1_score(y_test, y_pred, average='macro') )\n",
    "print (\"f1 score micro:\",metrics.f1_score(y_test, y_pred, average='micro') )"
   ]
  },
  {
   "cell_type": "markdown",
   "metadata": {},
   "source": [
    "可以看到與東京的資料相比，京都的準確率要再低一些，約99.1%。"
   ]
  },
  {
   "cell_type": "markdown",
   "metadata": {},
   "source": [
    "最後畫出consusion matrix。"
   ]
  },
  {
   "cell_type": "code",
   "execution_count": 28,
   "metadata": {},
   "outputs": [
    {
     "data": {
      "text/plain": [
       "<sklearn.metrics._plot.confusion_matrix.ConfusionMatrixDisplay at 0x1de5b8ded00>"
      ]
     },
     "execution_count": 28,
     "metadata": {},
     "output_type": "execute_result"
    },
    {
     "data": {
      "image/png": "[encoded data removed]",
      "text/plain": [
       "<Figure size 432x288 with 2 Axes>"
      ]
     },
     "metadata": {
      "needs_background": "light"
     },
     "output_type": "display_data"
    }
   ],
   "source": [
    "from sklearn.metrics import plot_confusion_matrix\n",
    "plot_confusion_matrix(clf, X_test_lda, y_test)"
   ]
  },
  {
   "cell_type": "markdown",
   "metadata": {},
   "source": [
    "從confusion matrix可以看出來，雖然這個model會有誤判的時候，但卻不會錯過任何\"下半旬\"開花的可能性，且預測會開花、而真的有開花的機率挺高的，約為98.2%（=277/(277+5)）。"
   ]
  },
  {
   "cell_type": "markdown",
   "metadata": {},
   "source": [
    "#### 函館\n",
    "讀進input data，並進行一連串data preprocessing。"
   ]
  },
  {
   "cell_type": "code",
   "execution_count": 29,
   "metadata": {},
   "outputs": [
    {
     "name": "stdout",
     "output_type": "stream",
     "text": [
      "(1292, 1)\n",
      "(554, 1)\n"
     ]
    },
    {
     "data": {
      "text/plain": [
       "array([[-0.17742807],\n",
       "       [-0.00894984],\n",
       "       [ 0.38458295],\n",
       "       [-0.09998159],\n",
       "       [-0.08707423],\n",
       "       [ 3.96302374],\n",
       "       [-2.96997558],\n",
       "       [-3.57366288],\n",
       "       [ 0.15263918],\n",
       "       [ 1.03428125],\n",
       "       [ 0.2671861 ],\n",
       "       [-0.73523271],\n",
       "       [-0.46944411],\n",
       "       [ 1.20433658],\n",
       "       [ 0.11829928],\n",
       "       [-0.20451166],\n",
       "       [-0.39577741],\n",
       "       [ 0.41661218],\n",
       "       [-0.90885979],\n",
       "       [-0.01331803],\n",
       "       [ 0.05556194]])"
      ]
     },
     "execution_count": 29,
     "metadata": {},
     "output_type": "execute_result"
    }
   ],
   "source": [
    "import pandas as pd\n",
    "import numpy as np\n",
    "from sklearn.svm import SVC\n",
    "from sklearn.utils import resample\n",
    "from sklearn.model_selection import train_test_split\n",
    "from sklearn.preprocessing import StandardScaler\n",
    "from sklearn.discriminant_analysis import LinearDiscriminantAnalysis as LDA\n",
    "\n",
    "# read in data for prediction for Hakodate\n",
    "path = \"data_hakodate_pre.csv\"\n",
    "df = pd.read_csv(path, encoding='latin1')\n",
    "\n",
    "# put data into X & y\n",
    "data = df.T\n",
    "X = []\n",
    "y = []\n",
    "for i in range(len(data.T)): # for total input data\n",
    "    # store all data into X & y\n",
    "    X.append(np.array(data[i][3:24]))\n",
    "    y.append(data[i][24])\n",
    "\n",
    "# balance data\n",
    "y = np.array(y)\n",
    "X = np.array(X)\n",
    "X_upsampled, y_upsampled = resample(X[y==1],\n",
    "                                   y[y==1],\n",
    "                                   replace=True,\n",
    "                                   n_samples=X[y==0].shape[0],\n",
    "                                   random_state=123)\n",
    "X_bal = np.vstack((X[y==0], X_upsampled))\n",
    "y_bal = np.hstack((y[y==0], y_upsampled))\n",
    "\n",
    "# split into 70% training & 30% testing\n",
    "X_train, X_test, y_train, y_test = train_test_split(X_bal, \n",
    "        y_bal, test_size=0.3, random_state=1, stratify=y_bal)\n",
    "\n",
    "# standardize Xs\n",
    "stdsc = StandardScaler()\n",
    "X_train_std = stdsc.fit_transform(X_train)\n",
    "X_test_std = stdsc.transform(X_test)\n",
    "\n",
    "# feature-extract Xs\n",
    "lda = LDA(n_components=1)\n",
    "X_train_lda = lda.fit_transform(X_train_std, y_train)\n",
    "X_test_lda = lda.transform(X_test_std)\n",
    "print(X_train_lda.shape)\n",
    "print(X_test_lda.shape)\n",
    "lda.scalings_"
   ]
  },
  {
   "cell_type": "markdown",
   "metadata": {},
   "source": [
    "有了降過維度的input data後，利用Grid Search找合適的參數。"
   ]
  },
  {
   "cell_type": "code",
   "execution_count": 30,
   "metadata": {},
   "outputs": [
    {
     "name": "stdout",
     "output_type": "stream",
     "text": [
      "Training time: 0:00:21.270842\n",
      "0.9863385827703619\n",
      "{'C': 100.0, 'gamma': 1000.0, 'kernel': 'rbf'}\n",
      "accuracy: 0.9891696750902527\n",
      "f1 score: 0.9892857142857143\n",
      "f1 score macro: 0.9891684045881126\n",
      "f1 score micro: 0.9891696750902527\n"
     ]
    }
   ],
   "source": [
    "from sklearn.model_selection import GridSearchCV\n",
    "from datetime import datetime\n",
    "from sklearn.metrics import f1_score\n",
    "from sklearn import metrics\n",
    "\n",
    "# train SVM using Grid Search\n",
    "svm = SVC(random_state=1)\n",
    "param_range = [0.0001, 0.001, 0.01, 0.1, 1.0, 10.0, 100.0, 1000.0]\n",
    "param_grid = [{'C': param_range,\n",
    "               'kernel':['linear']},\n",
    "              {'C': param_range,\n",
    "               'gamma': param_range,\n",
    "               'kernel': ['rbf']}]\n",
    "gs = GridSearchCV(estimator=svm,\n",
    "                 param_grid = param_grid,\n",
    "                 scoring='f1',\n",
    "                 refit=True,\n",
    "                 cv=10,\n",
    "                 n_jobs=-1)\n",
    "start=datetime.now()\n",
    "gs = gs.fit(X_train_lda, y_train)\n",
    "print('Training time:', datetime.now()-start)\n",
    "print(gs.best_score_)\n",
    "print(gs.best_params_)\n",
    "\n",
    "clf = gs.best_estimator_\n",
    "y_pred = clf.predict(X_test_lda)\n",
    "print (\"accuracy:\",metrics.accuracy_score(y_test, y_pred))\n",
    "print (\"f1 score:\",metrics.f1_score(y_test, y_pred) )\n",
    "print (\"f1 score macro:\",metrics.f1_score(y_test, y_pred, average='macro') )\n",
    "print (\"f1 score micro:\",metrics.f1_score(y_test, y_pred, average='micro') )"
   ]
  },
  {
   "cell_type": "markdown",
   "metadata": {},
   "source": [
    "可以看到與東京和京都的資料相比，函館的準確率要再低一些，約98.9%。"
   ]
  },
  {
   "cell_type": "markdown",
   "metadata": {},
   "source": [
    "最後畫出consusion matrix。"
   ]
  },
  {
   "cell_type": "code",
   "execution_count": 31,
   "metadata": {},
   "outputs": [
    {
     "data": {
      "text/plain": [
       "<sklearn.metrics._plot.confusion_matrix.ConfusionMatrixDisplay at 0x1de5ab250a0>"
      ]
     },
     "execution_count": 31,
     "metadata": {},
     "output_type": "execute_result"
    },
    {
     "data": {
      "image/png": "[encoded data removed]",
      "text/plain": [
       "<Figure size 432x288 with 2 Axes>"
      ]
     },
     "metadata": {
      "needs_background": "light"
     },
     "output_type": "display_data"
    }
   ],
   "source": [
    "from sklearn.metrics import plot_confusion_matrix\n",
    "plot_confusion_matrix(clf, X_test_lda, y_test)"
   ]
  },
  {
   "cell_type": "markdown",
   "metadata": {},
   "source": [
    "和前述模型相同，雖然這個model也會有誤判的時候，但卻不會錯過任何\"下半旬\"開花的可能性，且預測會開花、而真的有開花的機率挺高的，約為97.9%（=277/(277+6)）。"
   ]
  },
  {
   "cell_type": "markdown",
   "metadata": {
    "id": "G2Z1hvAAb2nS"
   },
   "source": [
    "### References\n",
    "* 機器學習講義與筆記\n",
    "* python 相關教學網頁"
   ]
  }
 ],
 "metadata": {
  "colab": {
   "collapsed_sections": [],
   "name": "HW5_106061140.ipynb",
   "provenance": []
  },
  "kernelspec": {
   "display_name": "Python 3",
   "language": "python",
   "name": "python3"
  },
  "language_info": {
   "codemirror_mode": {
    "name": "ipython",
    "version": 3
   },
   "file_extension": ".py",
   "mimetype": "text/x-python",
   "name": "python",
   "nbconvert_exporter": "python",
   "pygments_lexer": "ipython3",
   "version": "3.8.2"
  }
 },
 "nbformat": 4,
 "nbformat_minor": 1
}
